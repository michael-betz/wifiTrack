{
 "cells": [
  {
   "cell_type": "code",
   "execution_count": 72,
   "metadata": {
    "collapsed": false
   },
   "outputs": [],
   "source": [
    "import struct, os\n",
    "from Crypto.Cipher import AES\n",
    "DNS_URL_POSTFIX = \"dnsr.uk.to\"\n",
    "CODING_TABLE    = \"ABCDEFGHIJKLMNOPQRSTUVWXYZ234567\"\n",
    "#CODING_TABLE    = random.shuffle( CODING_TABLE )\n",
    "ct = {}\n",
    "for i,c in enumerate(CODING_TABLE.upper()):\n",
    "    ct[c] = i\n",
    "SECRET_KEY = bytes(range(32)) #Not so secret anymore ^^\n",
    "#SECRET_KEY = os.urandom(32)   #That's better."
   ]
  },
  {
   "cell_type": "markdown",
   "metadata": {},
   "source": [
    "### Add this to dnsSneaker.h"
   ]
  },
  {
   "cell_type": "code",
   "execution_count": 73,
   "metadata": {
    "collapsed": false,
    "scrolled": true
   },
   "outputs": [
    {
     "name": "stdout",
     "output_type": "stream",
     "text": [
      "#define SECRET_KEY_256\t\t\t\t\t\t\t{0x00,0x01,0x02,0x03,0x04,0x05,0x06,0x07,0x08,0x09,0x0a,0x0b,0x0c,0x0d,0x0e,0x0f,0x10,0x11,0x12,0x13,0x14,0x15,0x16,0x17,0x18,0x19,0x1a,0x1b,0x1c,0x1d,0x1e,0x1f,}\n",
      "#define CODING_TABLE\t\t\t\t\t\t\t\"ABCDEFGHIJKLMNOPQRSTUVWXYZ234567\"\n"
     ]
    }
   ],
   "source": [
    "print(\"#define SECRET_KEY_256\t\t\t\t\t\t\t{\", end=\"\")\n",
    "for c in SECRET_KEY:\n",
    "    print( \"0x{0:02x},\".format(c), end=\"\")\n",
    "print(\"}\")\n",
    "print(\"#define CODING_TABLE\t\t\t\t\t\t\t\\\"\", end=\"\")\n",
    "print( CODING_TABLE, end=\"\")\n",
    "print(\"\\\"\")"
   ]
  },
  {
   "cell_type": "markdown",
   "metadata": {},
   "source": [
    "### This is where the magic happens"
   ]
  },
  {
   "cell_type": "code",
   "execution_count": 81,
   "metadata": {
    "collapsed": true
   },
   "outputs": [],
   "source": [
    "def hexdump( res ):\n",
    "    for i,b in enumerate(res):\n",
    "        if( len(res)>16 and (i%16)==0 ):\n",
    "            print( \"\\n  {:04x}: \".format(i), end=\"\" )\n",
    "        print( \"{:02x} \".format(b), end=\"\" )\n",
    "\n",
    "class Crc16:\n",
    "    def __init__( self ):\n",
    "        self._resetRunnningCRC()\n",
    "    def _resetRunnningCRC( self ):\n",
    "        self.c=0xFFFF\n",
    "    def _runningCRC( self, inputByte ):\n",
    "        self.c ^= inputByte\n",
    "        self.c &= 0xFFFF\n",
    "        for b in range(8):             # For each bit in the byte\n",
    "            if self.c & 1:\n",
    "                self.c = (self.c >> 1) ^ 0xA001\n",
    "            else: \n",
    "                self.c = (self.c >> 1)\n",
    "            self.c &= 0xFFFF\n",
    "    def getCrc( self, dataBytes ):\n",
    "        self._resetRunnningCRC()\n",
    "        for b in dataBytes:\n",
    "            self._runningCRC( b )\n",
    "        return self.c\n",
    "\n",
    "class DnsDecoder:\n",
    "    def __init__( self, SECRET_KEY, SUBDOMAIN, CODING_TABLE ):\n",
    "        self.CODING_TABLE = CODING_TABLE\n",
    "        self.SUBDOMAIN = SUBDOMAIN\n",
    "        self.decodingTable = {}\n",
    "        for i,c in enumerate(CODING_TABLE.upper()):\n",
    "            self.decodingTable[c] = i\n",
    "        self.cipher = AES.new( SECRET_KEY, AES.MODE_ECB )\n",
    "        self.crc = Crc16()\n",
    "    \n",
    "    def _decodeBlock( self, messageBlock ):\n",
    "        \"\"\" returns a bytes object \"\"\"\n",
    "        res = 0\n",
    "        for i,c in enumerate(messageBlock):\n",
    "            res |= self.decodingTable[c]<<(i*5)\n",
    "        return res.to_bytes( 16, 'little' )\n",
    "    \n",
    "    def dnsDecode( self, qnString ):\n",
    "        \"\"\" decode URL string and return payload as bytes \"\"\"\n",
    "        if not qnString.endswith( self.SUBDOMAIN ):\n",
    "            raise RuntimeError(\"Bad hostname: \" + qnString)\n",
    "        messageBlocks = qnString.replace( self.SUBDOMAIN, \"\" )\n",
    "        resultBytes = bytearray()\n",
    "        for messageBlock in messageBlocks.split(\".\"):\n",
    "            messageBlock.upper()\n",
    "            resultBytes += self.cipher.decrypt( self._decodeBlock(messageBlock) )\n",
    "        plCrc = resultBytes[-2]<<8 | resultBytes[-1]\n",
    "        plLength = resultBytes[-3]\n",
    "        resultBytes = resultBytes[:plLength]\n",
    "        if self.crc.getCrc( resultBytes ) != plCrc:\n",
    "            raise RuntimeError(\"CRC error\")\n",
    "        return resultBytes"
   ]
  },
  {
   "cell_type": "code",
   "execution_count": 82,
   "metadata": {
    "collapsed": true
   },
   "outputs": [],
   "source": [
    "dc = DnsDecoder( SECRET_KEY, \".dnsr.uk.to.\", CODING_TABLE )"
   ]
  },
  {
   "cell_type": "code",
   "execution_count": 84,
   "metadata": {
    "collapsed": false
   },
   "outputs": [
    {
     "data": {
      "text/plain": [
       "bytearray(b'Test message with variable payloads and CRC !!!\\x00')"
      ]
     },
     "execution_count": 84,
     "metadata": {},
     "output_type": "execute_result"
    }
   ],
   "source": [
    "dc.dnsDecode(\"WBZZBT5EFY63RPAPOBK6KDWWAC.Q5XTF7PHP3ZI5HZZGM4NSWH2PG.NOO2UQKJ2EKPKZAUFIMKSRDCZC.2KF5E57JJTDJO3H5GQF3W2LYUG.dnsr.uk.to.\")"
   ]
  }
 ],
 "metadata": {
  "anaconda-cloud": {},
  "kernelspec": {
   "display_name": "Python [conda root]",
   "language": "python",
   "name": "conda-root-py"
  },
  "language_info": {
   "codemirror_mode": {
    "name": "ipython",
    "version": 3
   },
   "file_extension": ".py",
   "mimetype": "text/x-python",
   "name": "python",
   "nbconvert_exporter": "python",
   "pygments_lexer": "ipython3",
   "version": "3.5.1"
  }
 },
 "nbformat": 4,
 "nbformat_minor": 1
}
