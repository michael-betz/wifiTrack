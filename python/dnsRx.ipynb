{
 "cells": [
  {
   "cell_type": "code",
   "execution_count": 105,
   "metadata": {
    "collapsed": false
   },
   "outputs": [],
   "source": [
    "import struct, os\n",
    "from Crypto.Cipher import AES\n",
    "DNS_URL_POSTFIX = \"dnsr.uk.to\"\n",
    "CODING_TABLE    = \"IQJ6WORKEGL5B4YS3NZMPDHVCUA7FX2T\"\n",
    "ct = {}\n",
    "for i,c in enumerate(CODING_TABLE.upper()):\n",
    "    ct[c] = i\n",
    "#SECRET_KEY = os.urandom(32)  #That's better.\n",
    "qn = \"LHL4JWRWWOYQOP44UGTSZLPJTR.ENOHH3Y24PFTAXEN5IN4GNB7FQ.V5PV2VSNXCEKYGIY4JKGOVBPJJ.CPFRZBVBZGRA3LT42OXIPUB67Q.dnsr.uk.to.\""
   ]
  },
  {
   "cell_type": "markdown",
   "metadata": {},
   "source": [
    "### Add this to dnsSneaker.h"
   ]
  },
  {
   "cell_type": "code",
   "execution_count": 67,
   "metadata": {
    "collapsed": false,
    "scrolled": true
   },
   "outputs": [
    {
     "name": "stdout",
     "output_type": "stream",
     "text": [
      "#define SECRET_KEY_256\t\t\t\t\t\t\t{0xbe,0xa5,0x93,0x8e,0x43,0x4f,0x65,0xef,0x42,0xe7,0x11,0x45,0xc1,0xa0,0xfb,0x48,0xbf,0x8c,0x1a,0xf0,0x9b,0x36,0x88,0x4e,0x6d,0x6c,0x20,0x25,0xb4,0xf5,0xae,0x7c,}\n"
     ]
    }
   ],
   "source": [
    "print(\"#define SECRET_KEY_256\t\t\t\t\t\t\t{\", end=\"\")\n",
    "for c in SECRET_KEY:\n",
    "    print( \"0x{0:02x},\".format(c), end=\"\")\n",
    "print(\"}\")"
   ]
  },
  {
   "cell_type": "markdown",
   "metadata": {},
   "source": [
    "### This is where the magic happens"
   ]
  },
  {
   "cell_type": "code",
   "execution_count": 68,
   "metadata": {
    "collapsed": false
   },
   "outputs": [],
   "source": [
    "def decodeBlock( messageBlock ):\n",
    "    \"\"\" returns a bytes object \"\"\"\n",
    "    global ct\n",
    "    res = 0\n",
    "    for i,c in enumerate(messageBlock):\n",
    "        res |= ct[c]<<(i*5)\n",
    "    return res.to_bytes( 16, 'little' )"
   ]
  },
  {
   "cell_type": "code",
   "execution_count": 69,
   "metadata": {
    "collapsed": true
   },
   "outputs": [],
   "source": [
    "def dnsDecode( qnString ):\n",
    "    global DNS_URL_POSTFIX, SECRET_KEY\n",
    "    cipher = AES.new( SECRET_KEY, AES.MODE_ECB )\n",
    "    if not qnString.endswith( '.' + DNS_URL_POSTFIX + '.'):\n",
    "        raise RuntimeError(\"Bad hostname\" + qnString.split(\".\")[-1])\n",
    "    messageBlocks = qn.replace( '.' + DNS_URL_POSTFIX + '.', \"\" )\n",
    "    resultBytes = bytearray()\n",
    "    for messageBlock in messageBlocks.split(\".\"):\n",
    "        messageBlock.upper()\n",
    "        resultBytes += cipher.decrypt( decodeBlock(messageBlock) )\n",
    "    plLength = resultBytes[-3]\n",
    "    plCrc = resultBytes[-2]<<8 | resultBytes[-1]\n",
    "    return resultBytes"
   ]
  },
  {
   "cell_type": "code",
   "execution_count": 106,
   "metadata": {
    "collapsed": false
   },
   "outputs": [
    {
     "ename": "UnicodeDecodeError",
     "evalue": "'utf-8' codec can't decode byte 0xa6 in position 62: invalid start byte",
     "output_type": "error",
     "traceback": [
      "\u001b[0;31m---------------------------------------------------------------------------\u001b[0m",
      "\u001b[0;31mUnicodeDecodeError\u001b[0m                        Traceback (most recent call last)",
      "\u001b[0;32m<ipython-input-106-0339a6ad4441>\u001b[0m in \u001b[0;36m<module>\u001b[0;34m()\u001b[0m\n\u001b[1;32m      1\u001b[0m \u001b[0mres\u001b[0m \u001b[0;34m=\u001b[0m \u001b[0mdnsDecode\u001b[0m\u001b[0;34m(\u001b[0m \u001b[0mqn\u001b[0m \u001b[0;34m)\u001b[0m\u001b[0;34m\u001b[0m\u001b[0m\n\u001b[0;32m----> 2\u001b[0;31m \u001b[0mprint\u001b[0m\u001b[0;34m(\u001b[0m\u001b[0mres\u001b[0m\u001b[0;34m.\u001b[0m\u001b[0mdecode\u001b[0m\u001b[0;34m(\u001b[0m\u001b[0;34m)\u001b[0m\u001b[0;34m)\u001b[0m\u001b[0;34m\u001b[0m\u001b[0m\n\u001b[0m",
      "\u001b[0;31mUnicodeDecodeError\u001b[0m: 'utf-8' codec can't decode byte 0xa6 in position 62: invalid start byte"
     ]
    }
   ],
   "source": [
    "res = dnsDecode( qn )\n",
    "print(res.decode())"
   ]
  },
  {
   "cell_type": "code",
   "execution_count": 107,
   "metadata": {
    "collapsed": false
   },
   "outputs": [],
   "source": [
    "def hexdump( res ):\n",
    "    for i,b in enumerate(res):\n",
    "        if( len(res)>16 and (i%16)==0 ):\n",
    "            print( \"\\n  {:04x}: \".format(i), end=\"\" )\n",
    "        print( \"{:02x} \".format(b), end=\"\" )"
   ]
  },
  {
   "cell_type": "code",
   "execution_count": 108,
   "metadata": {
    "collapsed": false
   },
   "outputs": [
    {
     "name": "stdout",
     "output_type": "stream",
     "text": [
      "\n",
      "  0000: 57 75 68 75 75 21 2c 20 43 6f 6d 6d 75 6e 69 63 \n",
      "  0010: 61 74 69 6f 6e 20 73 65 65 6d 73 20 66 69 6e 65 \n",
      "  0020: 21 21 20 3a 44 20 3a 44 20 53 6f 20 63 6f 6f 6c \n",
      "  0030: 21 20 0a 09 2e 2e 2e 0a 00 00 00 00 00 39 a6 13 "
     ]
    }
   ],
   "source": [
    "hexdump(res)"
   ]
  },
  {
   "cell_type": "code",
   "execution_count": 111,
   "metadata": {
    "collapsed": true
   },
   "outputs": [],
   "source": [
    "class Crc16:\n",
    "    def __init__( self ):\n",
    "        self._resetRunnningCRC()\n",
    "    def _resetRunnningCRC( self ):\n",
    "        self.c=0xFFFF\n",
    "    def _runningCRC( self, inputByte ):\n",
    "        self.c ^= inputByte\n",
    "        self.c &= 0xFFFF\n",
    "        for b in range(8):             # For each bit in the byte\n",
    "            if self.c & 1:\n",
    "                self.c = (self.c >> 1) ^ 0xA001\n",
    "            else: \n",
    "                self.c = (self.c >> 1)\n",
    "            self.c &= 0xFFFF\n",
    "    def getCrc( self, dataBytes ):\n",
    "        self._resetRunnningCRC()\n",
    "        for b in dataBytes:\n",
    "            self._runningCRC( b )\n",
    "        return self.c"
   ]
  },
  {
   "cell_type": "code",
   "execution_count": 136,
   "metadata": {
    "collapsed": true
   },
   "outputs": [],
   "source": [
    "class DnsDecoder:\n",
    "    def __init__( self, SECRET_KEY, SUBDOMAIN='.dnsr.uk.to.', CODING_TABLE=\"IQJ6WORKEGL5B4YS3NZMPDHVCUA7FX2T\" ):\n",
    "        self.CODING_TABLE = CODING_TABLE\n",
    "        self.SUBDOMAIN = SUBDOMAIN\n",
    "        self.decodingTable = {}\n",
    "        for i,c in enumerate(CODING_TABLE.upper()):\n",
    "            self.decodingTable[c] = i\n",
    "        self.cipher = AES.new( SECRET_KEY, AES.MODE_ECB )\n",
    "        self.crc = Crc16()\n",
    "    \n",
    "    def _decodeBlock( self, messageBlock ):\n",
    "        \"\"\" returns a bytes object \"\"\"\n",
    "        res = 0\n",
    "        for i,c in enumerate(messageBlock):\n",
    "            res |= self.decodingTable[c]<<(i*5)\n",
    "        return res.to_bytes( 16, 'little' )\n",
    "    \n",
    "    def dnsDecode( self, qnString ):\n",
    "        \"\"\" decode URL string and return payload as bytes \"\"\"\n",
    "        if not qnString.endswith( self.SUBDOMAIN ):\n",
    "            raise RuntimeError(\"Bad hostname: \" + qnString)\n",
    "        messageBlocks = qnString.replace( self.SUBDOMAIN, \"\" )\n",
    "        resultBytes = bytearray()\n",
    "        for messageBlock in messageBlocks.split(\".\"):\n",
    "            messageBlock.upper()\n",
    "            resultBytes += self.cipher.decrypt( self._decodeBlock(messageBlock) )\n",
    "        plCrc = resultBytes[-2]<<8 | resultBytes[-1]\n",
    "        plLength = resultBytes[-3]\n",
    "        resultBytes = resultBytes[:plLength]\n",
    "        if self.crc.getCrc( resultBytes ) != plCrc:\n",
    "            raise RuntimeError(\"CRC error\")\n",
    "        return resultBytes"
   ]
  },
  {
   "cell_type": "code",
   "execution_count": 137,
   "metadata": {
    "collapsed": true
   },
   "outputs": [],
   "source": [
    "dc = DnsDecoder( SECRET_KEY )"
   ]
  },
  {
   "cell_type": "code",
   "execution_count": 148,
   "metadata": {
    "collapsed": false
   },
   "outputs": [
    {
     "name": "stdout",
     "output_type": "stream",
     "text": [
      "\n",
      "  0000: 00 01 02 03 04 05 06 07 08 09 0a 0b 0c 0d 0e 0f \n",
      "  0010: 10 11 12 13 14 15 16 17 18 19 1a 1b 1c 1d 1e "
     ]
    }
   ],
   "source": [
    "hexdump( dc.dnsDecode(\"6V3QMI5QLFKZGHAZ4ZU44LX6BW.5ZOUGBMD3XSSFMSUAMZROZ6ZNJ.WCPQHK35VK2OROL4TCYOKYCU7J.dnsr.uk.to.\") )"
   ]
  },
  {
   "cell_type": "code",
   "execution_count": 149,
   "metadata": {
    "collapsed": false
   },
   "outputs": [
    {
     "data": {
      "text/plain": [
       "48"
      ]
     },
     "execution_count": 149,
     "metadata": {},
     "output_type": "execute_result"
    }
   ],
   "source": [
    "6*8"
   ]
  }
 ],
 "metadata": {
  "anaconda-cloud": {},
  "kernelspec": {
   "display_name": "Python [conda root]",
   "language": "python",
   "name": "conda-root-py"
  },
  "language_info": {
   "codemirror_mode": {
    "name": "ipython",
    "version": 3
   },
   "file_extension": ".py",
   "mimetype": "text/x-python",
   "name": "python",
   "nbconvert_exporter": "python",
   "pygments_lexer": "ipython3",
   "version": "3.5.1"
  }
 },
 "nbformat": 4,
 "nbformat_minor": 1
}
