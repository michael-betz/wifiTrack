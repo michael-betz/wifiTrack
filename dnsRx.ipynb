{
 "cells": [
  {
   "cell_type": "code",
   "execution_count": 51,
   "metadata": {
    "collapsed": false
   },
   "outputs": [],
   "source": [
    "import struct, os\n",
    "from Crypto.Cipher import AES\n",
    "DNS_URL_POSTFIX = \"dnsr.uk.to\"\n",
    "CODING_TABLE    = \"IQJ6WORKEGL5B4YS3NZMPDHVCUA7FX2T\"\n",
    "ct = {}\n",
    "for i,c in enumerate(CODING_TABLE.upper()):\n",
    "    ct[c] = i\n",
    "SECRET_KEY = bytes([0]*32)   # AES 256 secret key. should be actually 32 random bytes, not all zeros :p\n",
    "#SECRET_KEY = os.urandom(32)  #That's better.\n",
    "qn = \"44Q23IJL2V24UDQBZTHRJD5SHJ.IPOF4V4EJMYQA4PMX6LAN622LW.M5OEVZSPUELORYQ7INILBS3B2Q.MQBBABAHHLVCJFNVSSO37LDD7Q.dnsr.uk.to.\""
   ]
  },
  {
   "cell_type": "markdown",
   "metadata": {},
   "source": [
    "### Add this to dnsSneaker.h"
   ]
  },
  {
   "cell_type": "code",
   "execution_count": 60,
   "metadata": {
    "collapsed": false
   },
   "outputs": [
    {
     "name": "stdout",
     "output_type": "stream",
     "text": [
      "#define SECRET_KEY_256\t\t\t\t\t\t\t{0x00,0x00,0x00,0x00,0x00,0x00,0x00,0x00,0x00,0x00,0x00,0x00,0x00,0x00,0x00,0x00,0x00,0x00,0x00,0x00,0x00,0x00,0x00,0x00,0x00,0x00,0x00,0x00,0x00,0x00,0x00,0x00,}\n"
     ]
    }
   ],
   "source": [
    "print(\"#define SECRET_KEY_256\t\t\t\t\t\t\t{\", end=\"\")\n",
    "for c in SECRET_KEY:\n",
    "    print( \"0x{0:02x},\".format(c), end=\"\")\n",
    "print(\"}\")"
   ]
  },
  {
   "cell_type": "markdown",
   "metadata": {},
   "source": [
    "### This is where the magic happens"
   ]
  },
  {
   "cell_type": "code",
   "execution_count": 53,
   "metadata": {
    "collapsed": false
   },
   "outputs": [],
   "source": [
    "def decodeBlock( messageBlock ):\n",
    "    \"\"\" returns a bytes object \"\"\"\n",
    "    global ct\n",
    "    res = 0\n",
    "    for i,c in enumerate(messageBlock):\n",
    "        res |= ct[c]<<(i*5)\n",
    "    return res.to_bytes( 16, 'little' )"
   ]
  },
  {
   "cell_type": "code",
   "execution_count": 54,
   "metadata": {
    "collapsed": true
   },
   "outputs": [],
   "source": [
    "def dnsDecode( qnString ):\n",
    "    global DNS_URL_POSTFIX, SECRET_KEY\n",
    "    cipher = AES.new( SECRET_KEY, AES.MODE_ECB )\n",
    "    if not qnString.endswith( '.' + DNS_URL_POSTFIX + '.'):\n",
    "        raise RuntimeError(\"Bad hostname\" + qnString.split(\".\")[-1])\n",
    "    messageBlocks = qn.replace( '.' + DNS_URL_POSTFIX + '.', \"\" )\n",
    "    resultBytes = bytearray()\n",
    "    for messageBlock in messageBlocks.split(\".\"):\n",
    "        messageBlock.upper()\n",
    "        resultBytes += cipher.decrypt( decodeBlock(messageBlock) )\n",
    "    return resultBytes"
   ]
  },
  {
   "cell_type": "code",
   "execution_count": 58,
   "metadata": {
    "collapsed": false
   },
   "outputs": [
    {
     "name": "stdout",
     "output_type": "stream",
     "text": [
      "Wuhuu!, Communication seems fine!! :D :D So cool! \n",
      "\t...\n",
      "\u0000\u0000\u0000\u0000\u0000\u0000\u0000\u0000\n"
     ]
    }
   ],
   "source": [
    "res = dnsDecode( qn )\n",
    "print(res.decode())"
   ]
  },
  {
   "cell_type": "code",
   "execution_count": 15,
   "metadata": {
    "collapsed": false
   },
   "outputs": [],
   "source": []
  }
 ],
 "metadata": {
  "anaconda-cloud": {},
  "kernelspec": {
   "display_name": "Python [conda root]",
   "language": "python",
   "name": "conda-root-py"
  },
  "language_info": {
   "codemirror_mode": {
    "name": "ipython",
    "version": 3
   },
   "file_extension": ".py",
   "mimetype": "text/x-python",
   "name": "python",
   "nbconvert_exporter": "python",
   "pygments_lexer": "ipython3",
   "version": "3.5.1"
  }
 },
 "nbformat": 4,
 "nbformat_minor": 1
}
