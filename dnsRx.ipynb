{
 "cells": [
  {
   "cell_type": "code",
   "execution_count": 1,
   "metadata": {
    "collapsed": true
   },
   "outputs": [],
   "source": [
    "import struct\n",
    "DNS_URL_POSTFIX = \"dnsr.uk.to\"\n",
    "CODING_TABLE    = \"IQJ6WORKEGL5B4YS3NZMPDHVCUA7FX2T\"\n",
    "ct = {}\n",
    "for i,c in enumerate(CODING_TABLE.upper()):\n",
    "    ct[c] = i\n",
    "#qn = \"CMUZRVO4P52YVPUBG6IIIIIIII.dnsr.uk.to.\"\n",
    "qn = \"VA7YKHIWP6AZHUQWG7FIZ3QWH6.OMFZK334SM7YR3EYO5FLVZ4YP6.IUPEKUO4Y7UJJVIWBLUEVMBYIQ.M5ULR3W4R6EZRAQW35CRVUDBM6.QGEJJIIIIIIIIIIIIIIIIIIIII.dnsr.uk.to.\""
   ]
  },
  {
   "cell_type": "code",
   "execution_count": 2,
   "metadata": {
    "collapsed": false
   },
   "outputs": [],
   "source": [
    "def decodeBlock( messageBlock ):\n",
    "    \"\"\" returns a bytes object \"\"\"\n",
    "    global ct\n",
    "    res = 0\n",
    "    for i,c in enumerate(messageBlock):\n",
    "        res |= ct[c]<<(i*5)\n",
    "    return res.to_bytes( 16, 'little' )"
   ]
  },
  {
   "cell_type": "code",
   "execution_count": 3,
   "metadata": {
    "collapsed": true
   },
   "outputs": [],
   "source": [
    "def dnsDecode( qnString ):\n",
    "    global DNS_URL_POSTFIX\n",
    "    if not qnString.endswith( '.' + DNS_URL_POSTFIX + '.'):\n",
    "        raise RuntimeError(\"Bad hostname\" + qnString.split(\".\")[-1])\n",
    "    messageBlocks = qn.replace( '.' + DNS_URL_POSTFIX + '.', \"\" )\n",
    "    resultBytes = bytearray()\n",
    "    for messageBlock in messageBlocks.split(\".\"):\n",
    "        messageBlock.upper()\n",
    "        resultBytes += decodeBlock( messageBlock )\n",
    "    return resultBytes"
   ]
  },
  {
   "cell_type": "code",
   "execution_count": 4,
   "metadata": {
    "collapsed": false
   },
   "outputs": [
    {
     "data": {
      "text/plain": [
       "bytearray(b\"Wow, this is a very long request String!. Let\\'s see if it passes!!!\\x00\\x00\\x00\\x00\\x00\\x00\\x00\\x00\\x00\\x00\\x00\\x00\\x00\")"
      ]
     },
     "execution_count": 4,
     "metadata": {},
     "output_type": "execute_result"
    }
   ],
   "source": [
    "dnsDecode( qn )"
   ]
  },
  {
   "cell_type": "code",
   "execution_count": null,
   "metadata": {
    "collapsed": true
   },
   "outputs": [],
   "source": []
  }
 ],
 "metadata": {
  "anaconda-cloud": {},
  "kernelspec": {
   "display_name": "Python [conda root]",
   "language": "python",
   "name": "conda-root-py"
  },
  "language_info": {
   "codemirror_mode": {
    "name": "ipython",
    "version": 3
   },
   "file_extension": ".py",
   "mimetype": "text/x-python",
   "name": "python",
   "nbconvert_exporter": "python",
   "pygments_lexer": "ipython3",
   "version": "3.5.1"
  }
 },
 "nbformat": 4,
 "nbformat_minor": 1
}
